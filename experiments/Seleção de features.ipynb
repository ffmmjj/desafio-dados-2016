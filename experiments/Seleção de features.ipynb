{
 "cells": [
  {
   "cell_type": "code",
   "execution_count": 1,
   "metadata": {
    "collapsed": true
   },
   "outputs": [],
   "source": [
    "import pandas as pd"
   ]
  },
  {
   "cell_type": "code",
   "execution_count": 2,
   "metadata": {
    "collapsed": true
   },
   "outputs": [],
   "source": [
    "escolas_exp = pd.read_csv('../dados/2013/TS_ESCOLA_average_exploration_data.csv')\n",
    "escolas_val = pd.read_csv('../dados/2013/TS_ESCOLA_average_validation_data.csv')"
   ]
  },
  {
   "cell_type": "code",
   "execution_count": 114,
   "metadata": {
    "collapsed": false
   },
   "outputs": [
    {
     "name": "stdout",
     "output_type": "stream",
     "text": [
      "<class 'pandas.core.frame.DataFrame'>\n",
      "RangeIndex: 22664 entries, 0 to 22663\n",
      "Columns: 129 entries, Unnamed: 0 to TX_RESP_Q074\n",
      "dtypes: float64(120), int64(9)\n",
      "memory usage: 22.3 MB\n"
     ]
    }
   ],
   "source": [
    "escolas_exp.info()"
   ]
  },
  {
   "cell_type": "code",
   "execution_count": 3,
   "metadata": {
    "collapsed": false
   },
   "outputs": [],
   "source": [
    "corrs = escolas_exp.filter(regex='TX_RESP').corr()"
   ]
  },
  {
   "cell_type": "code",
   "execution_count": 147,
   "metadata": {
    "collapsed": false
   },
   "outputs": [],
   "source": [
    "# from sklearn.ensemble import RandomForestRegressor\n",
    "from sklearn.tree import DecisionTreeRegressor\n",
    "\n",
    "def feature_score(escolas_dataset, feature):\n",
    "    escolas_dataset[feature].corr(escolas_dataset.MEDIA_9EF_MT)\n",
    "#     X = escolas_dataset[feature].values.reshape(-1, 1)\n",
    "#     Y = escolas_dataset.MEDIA_9EF_MT.values\n",
    "#     return DecisionTreeRegressor().fit(X, Y).score(X, Y)"
   ]
  },
  {
   "cell_type": "code",
   "execution_count": 148,
   "metadata": {
    "collapsed": false
   },
   "outputs": [
    {
     "ename": "TypeError",
     "evalue": "unorderable types: NoneType() > NoneType()",
     "output_type": "error",
     "traceback": [
      "\u001b[0;31m---------------------------------------------------------------------------\u001b[0m",
      "\u001b[0;31mTypeError\u001b[0m                                 Traceback (most recent call last)",
      "\u001b[0;32m<ipython-input-148-227e6eac96a2>\u001b[0m in \u001b[0;36m<module>\u001b[0;34m()\u001b[0m\n\u001b[1;32m     14\u001b[0m         \u001b[0;32mcontinue\u001b[0m\u001b[0;34m\u001b[0m\u001b[0m\n\u001b[1;32m     15\u001b[0m \u001b[0;34m\u001b[0m\u001b[0m\n\u001b[0;32m---> 16\u001b[0;31m     \u001b[0;32mif\u001b[0m \u001b[0mfeature_score\u001b[0m\u001b[0;34m(\u001b[0m\u001b[0mescolas_exp\u001b[0m\u001b[0;34m,\u001b[0m \u001b[0mmost_correlated_feature\u001b[0m\u001b[0;34m[\u001b[0m\u001b[0;36m0\u001b[0m\u001b[0;34m]\u001b[0m\u001b[0;34m)\u001b[0m \u001b[0;34m>\u001b[0m \u001b[0mfeature_score\u001b[0m\u001b[0;34m(\u001b[0m\u001b[0mescolas_exp\u001b[0m\u001b[0;34m,\u001b[0m \u001b[0mfeature_name\u001b[0m\u001b[0;34m)\u001b[0m\u001b[0;34m:\u001b[0m\u001b[0;34m\u001b[0m\u001b[0m\n\u001b[0m\u001b[1;32m     17\u001b[0m         \u001b[0mprint\u001b[0m\u001b[0;34m(\u001b[0m\u001b[0;34m'{} vs {}: kept {}'\u001b[0m\u001b[0;34m.\u001b[0m\u001b[0mformat\u001b[0m\u001b[0;34m(\u001b[0m\u001b[0mfeature_name\u001b[0m\u001b[0;34m,\u001b[0m \u001b[0mmost_correlated_feature\u001b[0m\u001b[0;34m[\u001b[0m\u001b[0;36m0\u001b[0m\u001b[0;34m]\u001b[0m\u001b[0;34m,\u001b[0m \u001b[0mmost_correlated_feature\u001b[0m\u001b[0;34m[\u001b[0m\u001b[0;36m0\u001b[0m\u001b[0;34m]\u001b[0m\u001b[0;34m)\u001b[0m\u001b[0;34m)\u001b[0m\u001b[0;34m\u001b[0m\u001b[0m\n\u001b[1;32m     18\u001b[0m         \u001b[0mkept_features\u001b[0m\u001b[0;34m.\u001b[0m\u001b[0mremove\u001b[0m\u001b[0;34m(\u001b[0m\u001b[0mfeature_name\u001b[0m\u001b[0;34m)\u001b[0m\u001b[0;34m\u001b[0m\u001b[0m\n",
      "\u001b[0;31mTypeError\u001b[0m: unorderable types: NoneType() > NoneType()"
     ]
    }
   ],
   "source": [
    "kept_features = corrs.columns.values.tolist()\n",
    "correlation_tolerance = 0.40\n",
    "\n",
    "for feature_name, correlations in corrs.items():\n",
    "    if feature_name not in kept_features:\n",
    "        continue\n",
    "        \n",
    "    sorted_correlations = list(correlations.filter(axis=0, items=kept_features).abs().sort_values().items())\n",
    "    if len(sorted_correlations) < 2:\n",
    "        continue\n",
    "        \n",
    "    most_correlated_feature = sorted_correlations[-2] # skip correlation with itself\n",
    "    if most_correlated_feature[1] < correlation_tolerance:\n",
    "        continue\n",
    "    \n",
    "    if feature_score(escolas_exp, most_correlated_feature[0]) > feature_score(escolas_exp, feature_name):\n",
    "        print('{} vs {}: kept {}'.format(feature_name, most_correlated_feature[0], most_correlated_feature[0]))\n",
    "        kept_features.remove(feature_name)\n",
    "    else:\n",
    "        print('{} vs {}: kept {}'.format(feature_name, most_correlated_feature[0], feature_name))\n",
    "        kept_features.remove(most_correlated_feature[0])"
   ]
  },
  {
   "cell_type": "code",
   "execution_count": 139,
   "metadata": {
    "collapsed": false
   },
   "outputs": [
    {
     "data": {
      "text/plain": [
       "-0.55866887020121503"
      ]
     },
     "execution_count": 139,
     "metadata": {},
     "output_type": "execute_result"
    }
   ],
   "source": [
    "X = escolas_exp.filter(regex='TX_RESP').values\n",
    "Y = escolas_exp.MEDIA_9EF_MT\n",
    "rf = DecisionTreeRegressor().fit(X, Y)\n",
    "\n",
    "X_test = escolas_val.filter(regex='TX_RESP').values\n",
    "Y_test = escolas_val.MEDIA_9EF_MT\n",
    "rf.score(X_test, Y_test)"
   ]
  },
  {
   "cell_type": "code",
   "execution_count": 130,
   "metadata": {
    "collapsed": false
   },
   "outputs": [
    {
     "data": {
      "text/plain": [
       "TX_RESP_Q036   -0.114767\n",
       "TX_RESP_Q050    0.029233\n",
       "TX_RESP_Q052    0.048548\n",
       "TX_RESP_Q025    0.056772\n",
       "TX_RESP_Q064    0.062637\n",
       "TX_RESP_Q063    0.062688\n",
       "TX_RESP_Q062    0.070993\n",
       "TX_RESP_Q024    0.074789\n",
       "TX_RESP_Q026    0.077627\n",
       "TX_RESP_Q066    0.084553\n",
       "TX_RESP_Q061    0.086716\n",
       "TX_RESP_Q074    0.088906\n",
       "TX_RESP_Q007    0.091201\n",
       "TX_RESP_Q069    0.094568\n",
       "TX_RESP_Q035    0.094939\n",
       "TX_RESP_Q028    0.104592\n",
       "TX_RESP_Q058    0.109321\n",
       "TX_RESP_Q055    0.111592\n",
       "TX_RESP_Q009    0.113171\n",
       "TX_RESP_Q029    0.114275\n",
       "TX_RESP_Q027    0.117920\n",
       "TX_RESP_Q015    0.123477\n",
       "TX_RESP_Q019    0.125819\n",
       "TX_RESP_Q072    0.126637\n",
       "TX_RESP_Q068    0.127051\n",
       "TX_RESP_Q008    0.127859\n",
       "TX_RESP_Q034    0.128882\n",
       "TX_RESP_Q073    0.132695\n",
       "TX_RESP_Q017    0.135316\n",
       "TX_RESP_Q014    0.139166\n",
       "                  ...   \n",
       "TX_RESP_Q012    0.148831\n",
       "TX_RESP_Q011    0.150429\n",
       "TX_RESP_Q051    0.153083\n",
       "TX_RESP_Q059    0.154571\n",
       "TX_RESP_Q018    0.156994\n",
       "TX_RESP_Q057    0.157092\n",
       "TX_RESP_Q022    0.158333\n",
       "TX_RESP_Q048    0.158611\n",
       "TX_RESP_Q021    0.159417\n",
       "TX_RESP_Q010    0.160720\n",
       "TX_RESP_Q020    0.168343\n",
       "TX_RESP_Q043    0.169405\n",
       "TX_RESP_Q049    0.169862\n",
       "TX_RESP_Q053    0.171332\n",
       "TX_RESP_Q031    0.172574\n",
       "TX_RESP_Q047    0.174979\n",
       "TX_RESP_Q070    0.176031\n",
       "TX_RESP_Q065    0.177536\n",
       "TX_RESP_Q054    0.179692\n",
       "TX_RESP_Q032    0.183469\n",
       "TX_RESP_Q042    0.191066\n",
       "TX_RESP_Q039    0.193126\n",
       "TX_RESP_Q040    0.193265\n",
       "TX_RESP_Q038    0.200821\n",
       "TX_RESP_Q056    0.203984\n",
       "TX_RESP_Q041    0.204577\n",
       "TX_RESP_Q045    0.206495\n",
       "TX_RESP_Q060    0.216962\n",
       "TX_RESP_Q037    0.227165\n",
       "TX_RESP_Q033    1.000000\n",
       "Name: TX_RESP_Q033, dtype: float64"
      ]
     },
     "execution_count": 130,
     "metadata": {},
     "output_type": "execute_result"
    }
   ],
   "source": [
    "corrs.TX_RESP_Q033.sort_values()"
   ]
  }
 ],
 "metadata": {
  "kernelspec": {
   "display_name": "Python 3",
   "language": "python",
   "name": "python3"
  },
  "language_info": {
   "codemirror_mode": {
    "name": "ipython",
    "version": 3
   },
   "file_extension": ".py",
   "mimetype": "text/x-python",
   "name": "python",
   "nbconvert_exporter": "python",
   "pygments_lexer": "ipython3",
   "version": "3.4.4"
  }
 },
 "nbformat": 4,
 "nbformat_minor": 1
}
