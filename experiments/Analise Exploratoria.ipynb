{
 "cells": [
  {
   "cell_type": "code",
   "execution_count": 1,
   "metadata": {
    "collapsed": true
   },
   "outputs": [],
   "source": [
    "%matplotlib inline\n",
    "import pandas as pd\n",
    "import matplotlib.pyplot as plt"
   ]
  },
  {
   "cell_type": "markdown",
   "metadata": {},
   "source": [
    "### Carregamento e junção dos dados"
   ]
  },
  {
   "cell_type": "code",
   "execution_count": 2,
   "metadata": {
    "collapsed": false,
    "scrolled": true
   },
   "outputs": [
    {
     "name": "stdout",
     "output_type": "stream",
     "text": [
      "<class 'pandas.core.frame.DataFrame'>\n",
      "Int64Index: 72808 entries, 0 to 72807\n",
      "Data columns (total 80 columns):\n",
      "ID_PROVA_BRASIL          72808 non-null int64\n",
      "ID_UF                    72808 non-null int64\n",
      "ID_MUNICIPIO             72808 non-null int64\n",
      "ID_ESCOLA                72808 non-null int64\n",
      "ID_DEPENDENCIA_ADM       72808 non-null int64\n",
      "ID_LOCALIZACAO           72808 non-null int64\n",
      "IN_PREENCHIMENTO         72808 non-null int64\n",
      "TX_RESP_Q001             72808 non-null object\n",
      "TX_RESP_Q002             72808 non-null object\n",
      "TX_RESP_Q003             72808 non-null object\n",
      "TX_RESP_Q004             72808 non-null object\n",
      "TX_RESP_Q005             72808 non-null object\n",
      "TX_RESP_Q006             72808 non-null object\n",
      "TX_RESP_Q007             72808 non-null object\n",
      "TX_RESP_Q008             72808 non-null object\n",
      "TX_RESP_Q009             72808 non-null object\n",
      "TX_RESP_Q010             72808 non-null object\n",
      "TX_RESP_Q011             72808 non-null object\n",
      "TX_RESP_Q012             72808 non-null object\n",
      "TX_RESP_Q013             72808 non-null object\n",
      "TX_RESP_Q014             72808 non-null object\n",
      "TX_RESP_Q015             72808 non-null object\n",
      "TX_RESP_Q016             72808 non-null object\n",
      "TX_RESP_Q017             72808 non-null object\n",
      "TX_RESP_Q018             72808 non-null object\n",
      "TX_RESP_Q019             72808 non-null object\n",
      "TX_RESP_Q020             72808 non-null object\n",
      "TX_RESP_Q021             72808 non-null object\n",
      "TX_RESP_Q022             72808 non-null object\n",
      "TX_RESP_Q023             72808 non-null object\n",
      "TX_RESP_Q024             72808 non-null object\n",
      "TX_RESP_Q025             72808 non-null object\n",
      "TX_RESP_Q026             72808 non-null object\n",
      "TX_RESP_Q027             72808 non-null object\n",
      "TX_RESP_Q028             72808 non-null object\n",
      "TX_RESP_Q029             72808 non-null object\n",
      "TX_RESP_Q030             72808 non-null object\n",
      "TX_RESP_Q031             72808 non-null object\n",
      "TX_RESP_Q032             72808 non-null object\n",
      "TX_RESP_Q033             72808 non-null object\n",
      "TX_RESP_Q034             72808 non-null object\n",
      "TX_RESP_Q035             72808 non-null object\n",
      "TX_RESP_Q036             72808 non-null object\n",
      "TX_RESP_Q037             72808 non-null object\n",
      "TX_RESP_Q038             72808 non-null object\n",
      "TX_RESP_Q039             72808 non-null object\n",
      "TX_RESP_Q040             72808 non-null object\n",
      "TX_RESP_Q041             72808 non-null object\n",
      "TX_RESP_Q042             72808 non-null object\n",
      "TX_RESP_Q043             72808 non-null object\n",
      "TX_RESP_Q044             72808 non-null object\n",
      "TX_RESP_Q045             72808 non-null object\n",
      "TX_RESP_Q046             72808 non-null object\n",
      "TX_RESP_Q047             72808 non-null object\n",
      "TX_RESP_Q048             72808 non-null object\n",
      "TX_RESP_Q049             72808 non-null object\n",
      "TX_RESP_Q050             72808 non-null object\n",
      "TX_RESP_Q051             72808 non-null object\n",
      "TX_RESP_Q052             72808 non-null object\n",
      "TX_RESP_Q053             72808 non-null object\n",
      "TX_RESP_Q054             72808 non-null object\n",
      "TX_RESP_Q055             72808 non-null object\n",
      "TX_RESP_Q056             72808 non-null object\n",
      "TX_RESP_Q057             72808 non-null object\n",
      "TX_RESP_Q058             72808 non-null object\n",
      "TX_RESP_Q059             72808 non-null object\n",
      "TX_RESP_Q060             72808 non-null object\n",
      "TX_RESP_Q061             72808 non-null object\n",
      "TX_RESP_Q062             72808 non-null object\n",
      "TX_RESP_Q063             72808 non-null object\n",
      "TX_RESP_Q064             72808 non-null object\n",
      "TX_RESP_Q065             72808 non-null object\n",
      "TX_RESP_Q066             72808 non-null object\n",
      "ID_SERIE                 72808 non-null int64\n",
      "NU_MATRICULADOS_CENSO    72808 non-null int64\n",
      "NU_PRESENTES             72808 non-null int64\n",
      "TAXA_PARTICIPACAO        72808 non-null object\n",
      "ID_DIVULGACAO            72808 non-null int64\n",
      "MEDIA_LP                 72808 non-null object\n",
      "MEDIA_MT                 72808 non-null object\n",
      "dtypes: int64(11), object(69)\n",
      "memory usage: 45.0+ MB\n"
     ]
    }
   ],
   "source": [
    "resultados_escola_pd = pd.read_csv('../dados/TS_RESULTADO_ESCOLA.csv', delimiter=';')\n",
    "questionario_escola_pd = pd.read_csv('../dados/TS_QUEST_ESCOLA.csv', delimiter=';')\n",
    "join_columns = ['ID_PROVA_BRASIL', 'ID_UF', 'ID_MUNICIPIO', 'ID_DEPENDENCIA_ADM', 'ID_LOCALIZACAO', 'ID_ESCOLA']\n",
    "escolas_info_pd = pd.merge(questionario_escola_pd, resultados_escola_pd, on=join_columns, how='outer')\n",
    "escolas_info_pd.info()"
   ]
  },
  {
   "cell_type": "code",
   "execution_count": 3,
   "metadata": {
    "collapsed": true
   },
   "outputs": [],
   "source": [
    "def questoes_ids():\n",
    "    questao_base = 'TX_RESP_Q{}'\n",
    "    for i in range(1, 67):\n",
    "        yield questao_base.format(str(i).zfill(3))"
   ]
  },
  {
   "cell_type": "code",
   "execution_count": 4,
   "metadata": {
    "collapsed": false
   },
   "outputs": [],
   "source": [
    "descricoes = [\n",
    "    'Avalie o estado de conservação dos itens e equipamentos do prédio - telhado',\n",
    "    'Avalie o estado de conservação dos itens e equipamentos do prédio - paredes',\n",
    "    'Avalie o estado de conservação dos itens e equipamentos do prédio - piso',\n",
    "    'Avalie o estado de conservação dos itens e equipamentos do prédio -  entrada do prédio',\n",
    "    'Avalie o estado de conservação dos itens e equipamentos do prédio - pátio',\n",
    "    'Avalie o estado de conservação dos itens e equipamentos do prédio - corredores',\n",
    "    'Avalie o estado de conservação dos itens e equipamentos do prédio - salas de aula',\n",
    "    'Avalie o estado de conservação dos itens e equipamentos do prédio - portas',\n",
    "    'Avalie o estado de conservação dos itens e equipamentos do prédio - janelas',\n",
    "    'Avalie o estado de conservação dos itens e equipamentos do prédio - banheiros',\n",
    "    'Avalie o estado de conservação dos itens e equipamentos do prédio - cozinha',\n",
    "    'Avalie o estado de conservação dos itens e equipamentos do prédio - instalações hidráulicas',\n",
    "    'Avalie o estado de conservação dos itens e equipamentos do prédio - instalações elétricas',\n",
    "    'Avalie os seguintes aspectos em relação às salas de aula: (considere sim quando mais de 50% das salas de aula apresentarem o aspecto questionado) - são iluminadas? ',\n",
    "    'Avalie os seguintes aspectos em relação às salas de aula: (considere sim quando mais de 50% das salas de aula apresentarem o aspecto questionado) - são arejadas? ',\n",
    "    'Avalie os seguintes aspectos em relação à segurança da escola e dos alunos: há muros, grades ou cercas em condições de garantir a segurança dos alunos? (caso existam buracos ou aberturas que permitam o acesso de estranhos, responder não)',\n",
    "    'Avalie os seguintes aspectos em relação à segurança da escola e dos alunos: há controle de entrada e saída de alunos?',\n",
    "    'Avalie os seguintes aspectos em relação à segurança da escola e dos alunos: há controle de entrada de pessoas estranhas na escola?',\n",
    "    'Avalie os seguintes aspectos em relação à segurança da escola e dos alunos: os portões que dão acesso à parte externa permanecem trancados durante o horário de funcionamento da escola?',\n",
    "    'Avalie os seguintes aspectos em relação à segurança da escola e dos alunos: há algum tipo de vigilância para o período diurno?',\n",
    "    'Avalie os seguintes aspectos em relação à segurança da escola e dos alunos: há algum tipo de vigilância para o período noturno?',\n",
    "    'Avalie os seguintes aspectos em relação à segurança da escola e dos alunos: há algum tipo de vigilância para os finais de semana e feriados?',\n",
    "    'Avalie os seguintes aspectos em relação à segurança da escola e dos alunos: há algum esquema de policiamento para inibição de furtos, roubos e outras formas de violência?',\n",
    "    'Avalie os seguintes aspectos em relação à segurança da escola e dos alunos: há algum esquema de policiamento para inibição de tráfico de tóxicos/ drogas dentro da escola?',\n",
    "    'Avalie os seguintes aspectos em relação à segurança da escola e dos alunos: há algum esquema de policiamento para inibição de tráfico de tóxicos/ drogas nas imediações da escola?',\n",
    "    'Avalie os seguintes aspectos em relação à segurança da escola e dos alunos: a escola possui algum sistema de proteção contra incêndio (alarme de fumaça e temperatura, extintores contra incêndio dentro do prazo de validade, mangueira etc.)?',\n",
    "    'Avalie os seguintes aspectos em relação à segurança da escola e dos alunos: as salas onde são guardados os equipamentos mais caros (computadores, projetores, televisão, vídeo etc.) Possuem dispositivos para serem trancados (cadeados, grades, travas, trancas etc.)? ',\n",
    "    'Avalie os seguintes aspectos em relação à segurança da escola e dos alunos: a escola apresenta sinais de depredação (vidros, portas e janelas quebradas, lâmpadas estouradas etc.)?',\n",
    "    'Avalie os seguintes aspectos em relação à segurança da escola e dos alunos: há uma boa iluminação do lado de fora da escola?',\n",
    "    'Avalie os seguintes aspectos em relação à segurança da escola e dos alunos: a escola adota alguma medida de segurança para para proteger os alunos nas suas imediações?',\n",
    "    'Indique se nesta escola existem ou não os recursos apontados e quais são suas condiçoes de uso. Computadores para uso dos alunos. ',\n",
    "    'Indique se nesta escola existem ou não os recursos apontados e quais são suas condiçoes de uso. Acesso à internet para uso dos alunos.',\n",
    "    'Indique se nesta escola existem ou não os recursos apontados e quais são suas condiçoes de uso. Computadores para uso dos professores.',\n",
    "    'Indique se nesta escola existem ou não os recursos apontados e quais são suas condiçoes de uso. Acesso à internet para uso dos professores.',\n",
    "    'Indique se nesta escola existem ou não os recursos apontados e quais são suas condiçoes de uso. Computadores exclusivamente para o uso administrativo.',\n",
    "    'Indique se nesta escola existem ou não os recursos apontados e quais são suas condiçoes de uso. Fitas de vídeo ou dvd (educativas).',\n",
    "    'Indique se nesta escola existem ou não os recursos apontados e quais são suas condiçoes de uso. Fitas de vídeo ou dvd (lazer).',\n",
    "    'Indique se nesta escola existem ou não os recursos apontados e quais são suas condiçoes de uso. Máquina copiadora.',\n",
    "    'Indique se nesta escola existem ou não os recursos apontados e quais são suas condiçoes de uso. Impressora.',\n",
    "    'Indique se nesta escola existem ou não os recursos apontados e quais são suas condiçoes de uso. Retroprojetor.',\n",
    "    'Indique se nesta escola existem ou não os recursos apontados e quais são suas condiçoes de uso. Projetor de slides.',\n",
    "    'Indique se nesta escola existem ou não os recursos apontados e quais são suas condiçoes de uso. Videocassete ou dvd.',\n",
    "    'Indique se nesta escola existem ou não os recursos apontados e quais são suas condiçoes de uso. Televisão.',\n",
    "    'Indique se nesta escola existem ou não os recursos apontados e quais são suas condiçoes de uso. Mimeógrafo.',\n",
    "    'Indique se nesta escola existem ou não os recursos apontados e quais são suas condiçoes de uso. Câmera fotográfica.',\n",
    "    'Indique se nesta escola existem ou não os recursos apontados e quais são suas condiçoes de uso. Antena parabólica.',\n",
    "    'Indique se nesta escola existem ou não os recursos apontados e quais são suas condiçoes de uso. Linha telefônica.',\n",
    "    'Indique se nesta escola existem ou não os recursos apontados e quais são suas condiçoes de uso. Aparelho de fax.',\n",
    "    'Indique se nesta escola existem ou não os recursos apontados e quais são suas condiçoes de uso. Aparelho de som.',\n",
    "    'Indique se nesta escola existem ou não os recursos apontados e quais são suas condiçoes de uso. Biblioteca.',\n",
    "    'Indique se nesta escola existem ou não os recursos apontados e quais são suas condiçoes de uso. Quadra de esportes.',\n",
    "    'Indique se nesta escola existem ou não os recursos apontados e quais são suas condiçoes de uso. Laboratório.',\n",
    "    'Indique se nesta escola existem ou não os recursos apontados e quais são suas condiçoes de uso. Auditório.',\n",
    "    'Indique se nesta escola existem ou não os recursos apontados e quais são suas condiçoes de uso. Sala para atividades de música.',\n",
    "    'Indique se nesta escola existem ou não os recursos apontados e quais são suas condiçoes de uso. Sala para atividades de artes plásticas.',\n",
    "    'Indique se nesta escola existem ou não os recursos apontados e quais são suas condiçoes de uso. Sala de leitura.',\n",
    "    'Em relação à biblioteca ou sala de leitura:  possui acervo diversificado que desperte o interesse dos alunos.',\n",
    "    'Em relação à biblioteca ou sala de leitura:  possui brinquedoteca.',\n",
    "    'Em relação à biblioteca ou sala de leitura:  possui espaço para estudos coletivos.',\n",
    "    'Em relação à biblioteca ou sala de leitura:  os livros podem ser manuseados e emprestados.',\n",
    "    'Em relação à biblioteca ou sala de leitura:  a comunidade pode  utilzar o espaço e os livros.',\n",
    "    'Em relação à biblioteca ou sala de leitura:  o espaço é arejado e bem iluminado.',\n",
    "    'Em relação à biblioteca ou sala de leitura:  existe uma pessoa responsável pelo atendimento na biblioteca ou na sala de leitura?',\n",
    "    'Os usuários da biblioteca (ou sala de leitura) levam livros para casa? Os alunos.',\n",
    "    'Os usuários da biblioteca (ou sala de leitura) levam livros para casa? Os professores.',\n",
    "    'Os usuários da biblioteca (ou sala de leitura) levam livros para casa? Os membros da comunidade.'\n",
    "]\n",
    "dicionario_questoes_escola = {\n",
    "    questao_id: descricoes[index] for (index, questao_id) in enumerate(questoes_ids())\n",
    "}"
   ]
  },
  {
   "cell_type": "markdown",
   "metadata": {},
   "source": [
    "### Limpeza inicial dos dados"
   ]
  },
  {
   "cell_type": "code",
   "execution_count": 5,
   "metadata": {
    "collapsed": true
   },
   "outputs": [],
   "source": [
    "def codificar_questoes(questionario_pd):\n",
    "    questionario_tratado_pd = questionario_pd.copy()\n",
    "    for questao in questoes_ids():\n",
    "        questionario_tratado_pd[questao] = questionario_pd[questao].map({'A': 3, 'B': 2, 'C': 1, 'D': 0}).fillna(-1)\n",
    "    \n",
    "    return questionario_tratado_pd\n",
    "\n",
    "\n",
    "def limpar_scores(questionario_pd):\n",
    "    questionario_tratado_pd = questionario_pd.copy()\n",
    "    ids_scores = ['MEDIA_LP', 'MEDIA_MT']\n",
    "    \n",
    "    for id_score in ids_scores:\n",
    "        questionario_tratado_pd[id_score] = questionario_pd[id_score].str.strip().str.replace(',', '.').str.replace('^$', '-1').astype(float)\n",
    "    \n",
    "    return questionario_tratado_pd"
   ]
  },
  {
   "cell_type": "code",
   "execution_count": 6,
   "metadata": {
    "collapsed": false
   },
   "outputs": [],
   "source": [
    "escolas_info_clean_pd = limpar_scores(codificar_questoes(escolas_info_pd))"
   ]
  },
  {
   "cell_type": "markdown",
   "metadata": {},
   "source": [
    "### Checagem de correlações"
   ]
  },
  {
   "cell_type": "code",
   "execution_count": 7,
   "metadata": {
    "collapsed": false
   },
   "outputs": [
    {
     "data": {
      "text/plain": [
       "['Indique se nesta escola existem ou não os recursos apontados e quais são suas condiçoes de uso. Linha telefônica.',\n",
       " 'Indique se nesta escola existem ou não os recursos apontados e quais são suas condiçoes de uso. Aparelho de fax.',\n",
       " 'Indique se nesta escola existem ou não os recursos apontados e quais são suas condiçoes de uso. Quadra de esportes.',\n",
       " 'Indique se nesta escola existem ou não os recursos apontados e quais são suas condiçoes de uso. Biblioteca.',\n",
       " 'Indique se nesta escola existem ou não os recursos apontados e quais são suas condiçoes de uso. Acesso à internet para uso dos alunos.',\n",
       " 'Os usuários da biblioteca (ou sala de leitura) levam livros para casa? Os alunos.',\n",
       " 'Em relação à biblioteca ou sala de leitura:  existe uma pessoa responsável pelo atendimento na biblioteca ou na sala de leitura?',\n",
       " 'Indique se nesta escola existem ou não os recursos apontados e quais são suas condiçoes de uso. Retroprojetor.',\n",
       " 'Os usuários da biblioteca (ou sala de leitura) levam livros para casa? Os professores.',\n",
       " 'Indique se nesta escola existem ou não os recursos apontados e quais são suas condiçoes de uso. Computadores exclusivamente para o uso administrativo.']"
      ]
     },
     "execution_count": 7,
     "metadata": {},
     "output_type": "execute_result"
    }
   ],
   "source": [
    "escolas_questoes_lp = escolas_info_clean_pd[list(questoes_ids()) + ['MEDIA_LP']]\n",
    "media_lp_corrs = escolas_questoes_lp.corr()['MEDIA_LP']\n",
    "dez_questoes_com_maiores_correlacoes = media_lp_corrs.sort_values(ascending=False).index[1:11]\n",
    "\n",
    "[dicionario_questoes_escola[q] for q in dez_questoes_com_maiores_correlacoes]"
   ]
  },
  {
   "cell_type": "markdown",
   "metadata": {},
   "source": [
    "### Distribuição das médias em Língua Portuguesa"
   ]
  },
  {
   "cell_type": "code",
   "execution_count": 8,
   "metadata": {
    "collapsed": false
   },
   "outputs": [
    {
     "data": {
      "image/png": "[encoded data removed]",
      "text/plain": [
       "<matplotlib.figure.Figure at 0x1105fc048>"
      ]
     },
     "metadata": {},
     "output_type": "display_data"
    }
   ],
   "source": [
    "plt.hist(escolas_info_clean_pd['MEDIA_LP'], bins=20)\n",
    "plt.xlabel('Média em Língua Portuguesa')\n",
    "plt.show()"
   ]
  },
  {
   "cell_type": "markdown",
   "metadata": {},
   "source": [
    "### Gráfico de correlação entre Qualidade da Biblioteca e Média em Língua Portuguesa"
   ]
  },
  {
   "cell_type": "code",
   "execution_count": 9,
   "metadata": {
    "collapsed": false
   },
   "outputs": [
    {
     "data": {
      "image/png": "[encoded data removed]",
      "text/plain": [
       "<matplotlib.figure.Figure at 0x1119a5278>"
      ]
     },
     "metadata": {},
     "output_type": "display_data"
    }
   ],
   "source": [
    "# Qualidade da biblioteca, de acordo com o dicionario de dados, encontra-se no campo TX_RESP_Q050\n",
    "plt.scatter(escolas_info_clean_pd['TX_RESP_Q050'], escolas_info_clean_pd['MEDIA_LP'])\n",
    "plt.xlabel('Qualidade da biblioteca')\n",
    "plt.ylabel('Média em Língua Portuguesa')\n",
    "plt.xticks([-1, 0, 1, 2, 3], ['S/R', 'Inexistente', 'Ruim', 'Regular', 'Bom'])\n",
    "plt.show()"
   ]
  }
 ],
 "metadata": {
  "kernelspec": {
   "display_name": "Python 3",
   "language": "python",
   "name": "python3"
  },
  "language_info": {
   "codemirror_mode": {
    "name": "ipython",
    "version": 3
   },
   "file_extension": ".py",
   "mimetype": "text/x-python",
   "name": "python",
   "nbconvert_exporter": "python",
   "pygments_lexer": "ipython3",
   "version": "3.4.4"
  }
 },
 "nbformat": 4,
 "nbformat_minor": 1
}
