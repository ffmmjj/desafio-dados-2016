{
 "cells": [
  {
   "cell_type": "code",
   "execution_count": 1,
   "metadata": {
    "collapsed": true
   },
   "outputs": [],
   "source": [
    "%matplotlib inline\n",
    "import pandas as pd\n",
    "import matplotlib.pyplot as plt\n",
    "import sys\n",
    "sys.path.append('../src')"
   ]
  },
  {
   "cell_type": "markdown",
   "metadata": {},
   "source": [
    "### Carregamento e junção dos dados"
   ]
  },
  {
   "cell_type": "code",
   "execution_count": 16,
   "metadata": {
    "collapsed": false
   },
   "outputs": [],
   "source": [
    "from preprocessamento_escola_2011 import escolas_info_train, escolas_info_test"
   ]
  },
  {
   "cell_type": "markdown",
   "metadata": {},
   "source": [
    "O módulo acima carrega os dados e os divide entre conjunto de treinamento(Para análise exploratória) e conjunto de teste(para validação de hipóteses). Os conjuntos já agrupam os questionários com as médias em língua portuguesa e matemática, além de renomear as questões com um nome mais significativo.\n",
    "As questões também foram agrupadas em categorias(INFRA, SEGURANCA, RECURSOS e BIBLIOTECA) para facilitar possíveis agrupamentos posteriores."
   ]
  },
  {
   "cell_type": "code",
   "execution_count": 15,
   "metadata": {
    "collapsed": false
   },
   "outputs": [
    {
     "name": "stdout",
     "output_type": "stream",
     "text": [
      "<class 'pandas.core.frame.DataFrame'>\n",
      "RangeIndex: 18202 entries, 0 to 18201\n",
      "Data columns (total 80 columns):\n",
      "ID_PROVA_BRASIL                                     18202 non-null object\n",
      "ID_UF                                               18202 non-null object\n",
      "ID_MUNICIPIO                                        18202 non-null object\n",
      "ID_ESCOLA                                           18202 non-null object\n",
      "ID_DEPENDENCIA_ADM                                  18202 non-null object\n",
      "ID_LOCALIZACAO                                      18202 non-null object\n",
      "IN_PREENCHIMENTO                                    18202 non-null object\n",
      "Q_INFRA_TELHADO                                     18202 non-null object\n",
      "Q_INFRA_PAREDES                                     18202 non-null object\n",
      "Q_INFRA_PISO                                        18202 non-null object\n",
      "Q_INFRA_ENTRADA_PREDIO                              18202 non-null object\n",
      "Q_INFRA_PATIO                                       18202 non-null object\n",
      "Q_INFRA_CORREDORES                                  18202 non-null object\n",
      "Q_INFRA_SALAS_DE_AULA                               18202 non-null object\n",
      "Q_INFRA_PORTAS                                      18202 non-null object\n",
      "Q_INFRA_JANELAS                                     18202 non-null object\n",
      "Q_INFRA_BANHEIROS                                   18202 non-null object\n",
      "Q_INFRA_COZINHA                                     18202 non-null object\n",
      "Q_INFRA_INSTALACOES_HIDRAULICAS                     18202 non-null object\n",
      "Q_INFRA_INSTALACOES_ELETRICAS                       18202 non-null object\n",
      "Q_INFRA_SALAS_ILUMINADAS                            18202 non-null object\n",
      "Q_INFRA_SALAS_AREJADAS                              18202 non-null object\n",
      "Q_SEGURANCA_MUROS                                   18202 non-null object\n",
      "Q_SEGURANCA_ENTRADA_SAIDA_ALUNOS                    18202 non-null object\n",
      "Q_SEGURANCA_ENTRADA_SAIDA_ESTRANHOS                 18202 non-null object\n",
      "Q_SEGURANCA_PORTOES_TRANCADOS_DURANTE_AULA          18202 non-null object\n",
      "Q_SEGURANCA_VIGILANCIA_DIURNO                       18202 non-null object\n",
      "Q_SEGURANCA_VIGILANCIA_NOTURNO                      18202 non-null object\n",
      "Q_SEGURANCA_VIGILANCIA_FIM_DE_SEMANA                18202 non-null object\n",
      "Q_SEGURANCA_POLICIAMENTO_FURTOS_E_ROUBOS            18202 non-null object\n",
      "Q_SEGURANCA_POLICIAMENTO_DROGAS_DENTRO_DA_ESCOLA    18202 non-null object\n",
      "Q_SEGURANCA_POLICIAMENTO_DROGAS_FORA_DA_ESCOLA      18202 non-null object\n",
      "Q_SEGURANCA_PROTECAO_INCENDIO                       18202 non-null object\n",
      "Q_SEGURANCA_SALA_EQUIPAMENTOS_TRANCADA              18202 non-null object\n",
      "Q_SEGURANCA_SINAIS_DEPREDACAO                       18202 non-null object\n",
      "Q_SEGURANCA_BOA_ILUMINACAO_FORA_DA_ESCOLA           18202 non-null object\n",
      "Q_SEGURANCA_PROTECAO_ALUNOS_FORA_DA_ESCOLA          18202 non-null object\n",
      "Q_RECURSOS_COMPUTADORES_PARA_ALUNOS                 18202 non-null object\n",
      "Q_RECURSOS_INTERNET_PARA_ALUNOS                     18202 non-null object\n",
      "Q_RECURSOS_COMPUTADORES_PARA_PROFESSORES            18202 non-null object\n",
      "Q_RECURSOS_INTERNET_PARA_PROFESSORES                18202 non-null object\n",
      "Q_RECURSOS_COMPUTADORES_ADMINISTRACAO               18202 non-null object\n",
      "Q_RECURSOS_VIDEOS_EDUCATIVOS                        18202 non-null object\n",
      "Q_RECURSOS_VIDEOS_LAZER                             18202 non-null object\n",
      "Q_RECURSOS_COPIADORA                                18202 non-null object\n",
      "Q_RECURSOS_IMPRESSORA                               18202 non-null object\n",
      "Q_RECURSOS_RETROPROJETOR                            18202 non-null object\n",
      "Q_RECURSOS_PROJETOR_SLIDES                          18202 non-null object\n",
      "Q_RECURSOS_CASSETE_OU_DVD                           18202 non-null object\n",
      "Q_RECURSOS_TELEVISAO                                18202 non-null object\n",
      "Q_RECURSOS_MIMEOGRAFO                               18202 non-null object\n",
      "Q_RECURSOS_CAMERA                                   18202 non-null object\n",
      "Q_RECURSOS_ANTENA_PARABOLICA                        18202 non-null object\n",
      "Q_RECURSOS_LINHA_TELEFONICA                         18202 non-null object\n",
      "Q_RECURSOS_APARELHOS_DE_FAX                         18202 non-null object\n",
      "Q_RECURSOS_APARELHO_DE_SOM                          18202 non-null object\n",
      "Q_RECURSOS_BIBLIOTECA                               18202 non-null object\n",
      "Q_RECURSOS_QUADRA_ESPORTIVA                         18202 non-null object\n",
      "Q_RECURSOS_LABORATORIO                              18202 non-null object\n",
      "Q_RECURSOS_AUDITORIO                                18202 non-null object\n",
      "Q_RECURSOS_SALA_DE_MUSICA                           18202 non-null object\n",
      "Q_RECURSOS_SALA_DE_ARTES_PLASTICAS                  18202 non-null object\n",
      "Q_RECURSOS_SALA_DE_LEITURA                          18202 non-null object\n",
      "Q_BIBLIOTECA_ACERVO_DIVERSIFICADO                   18202 non-null object\n",
      "Q_BIBLIOTECA_BRINQUEDOTECA                          18202 non-null object\n",
      "Q_BIBLIOTECA_ESPACO_DE_ESTUDOS_COLETIVO             18202 non-null object\n",
      "Q_BIBLIOTECA_LIVROS_PODEM_SER_EMPRESTADOS           18202 non-null object\n",
      "Q_BIBLIOTECA_ABERTA_A_COMUNIDADE                    18202 non-null object\n",
      "Q_BIBLIOTECA_ESPACO_AREJADO_E_ILUMINADO             18202 non-null object\n",
      "Q_BIBLIOTECA_PESSOA_NO_ATENDIMENTO                  18202 non-null object\n",
      "Q_BIBLIOTECA_ALUNOS_PODEM_LEVAR_LIVROS              18202 non-null object\n",
      "Q_BIBLIOTECA_PROFESSORES_PODEM_LEVAR_LIVROS         18202 non-null object\n",
      "Q_BIBLIOTECA_COMUNIDADE_PODE_LEVAR_LIVROS           18202 non-null object\n",
      "ID_SERIE                                            18202 non-null object\n",
      "NU_MATRICULADOS_CENSO                               18202 non-null object\n",
      "NU_PRESENTES                                        18202 non-null object\n",
      "TAXA_PARTICIPACAO                                   18202 non-null object\n",
      "ID_DIVULGACAO                                       18202 non-null object\n",
      "MEDIA_MT                                            18202 non-null object\n",
      "MEDIA_LP                                            18202 non-null object\n",
      "dtypes: object(80)\n",
      "memory usage: 11.1+ MB\n"
     ]
    }
   ],
   "source": [
    "escolas_info_train.info()"
   ]
  },
  {
   "cell_type": "markdown",
   "metadata": {},
   "source": [
    "### Limpeza inicial dos dados"
   ]
  },
  {
   "cell_type": "code",
   "execution_count": 18,
   "metadata": {
    "collapsed": true
   },
   "outputs": [],
   "source": [
    "def codificar_questoes(questionario_pd):\n",
    "    questionario_tratado_pd = questionario_pd.copy()\n",
    "    for questoes in questionario_tratado_pd.filter(regex='Q_.*').columns:\n",
    "        questionario_tratado_pd[questoes] = questionario_pd[questoes].map({'A': 3, 'B': 2, 'C': 1, 'D': 0}).fillna(-1)\n",
    "    \n",
    "    return questionario_tratado_pd\n",
    "\n",
    "\n",
    "def limpar_score(questionario_pd, score_names):\n",
    "    questionario_tratado_pd = questionario_pd.copy()\n",
    "    for score in score_names:\n",
    "        questionario_tratado_pd[score] = questionario_pd[score].str.strip().str.replace(',', '.').str.replace('^$', '-1').astype(float)\n",
    "    \n",
    "    return questionario_tratado_pd"
   ]
  },
  {
   "cell_type": "code",
   "execution_count": 20,
   "metadata": {
    "collapsed": false
   },
   "outputs": [],
   "source": [
    "escolas_train_clean = limpar_score(codificar_questoes(escolas_info_train), ['MEDIA_MT', 'MEDIA_LP'])"
   ]
  },
  {
   "cell_type": "markdown",
   "metadata": {},
   "source": [
    "### Checagem de correlações"
   ]
  },
  {
   "cell_type": "code",
   "execution_count": 25,
   "metadata": {
    "collapsed": false
   },
   "outputs": [
    {
     "data": {
      "text/plain": [
       "Index(['Q_RECURSOS_LINHA_TELEFONICA', 'Q_RECURSOS_APARELHOS_DE_FAX',\n",
       "       'Q_RECURSOS_QUADRA_ESPORTIVA', 'Q_RECURSOS_BIBLIOTECA',\n",
       "       'Q_BIBLIOTECA_ALUNOS_PODEM_LEVAR_LIVROS',\n",
       "       'Q_RECURSOS_INTERNET_PARA_ALUNOS', 'Q_BIBLIOTECA_PESSOA_NO_ATENDIMENTO',\n",
       "       'Q_RECURSOS_RETROPROJETOR',\n",
       "       'Q_BIBLIOTECA_PROFESSORES_PODEM_LEVAR_LIVROS',\n",
       "       'Q_RECURSOS_COMPUTADORES_ADMINISTRACAO'],\n",
       "      dtype='object')"
      ]
     },
     "execution_count": 25,
     "metadata": {},
     "output_type": "execute_result"
    }
   ],
   "source": [
    "escolas_info_clean_pd = escolas_train_clean.copy()\n",
    "escolas_info_clean_pd['MEDIA_LP'] = escolas_train_clean['MEDIA_LP']\n",
    "escolas_questoes_lp = escolas_train_clean.filter(regex='(Q_.*|MEDIA_LP)')\n",
    "media_lp_corrs = escolas_questoes_lp.corr()['MEDIA_LP']\n",
    "media_lp_corrs.sort_values(ascending=False).index[1:11]"
   ]
  },
  {
   "cell_type": "markdown",
   "metadata": {},
   "source": [
    "### Distribuição das médias em Língua Portuguesa"
   ]
  },
  {
   "cell_type": "code",
   "execution_count": 26,
   "metadata": {
    "collapsed": false
   },
   "outputs": [
    {
     "data": {
      "image/png": "[encoded data removed]",
      "text/plain": [
       "<matplotlib.figure.Figure at 0x134f47128>"
      ]
     },
     "metadata": {},
     "output_type": "display_data"
    }
   ],
   "source": [
    "plt.hist(escolas_train_clean['MEDIA_LP'], bins=20)\n",
    "plt.xlabel('Média em Língua Portuguesa')\n",
    "plt.show()"
   ]
  },
  {
   "cell_type": "markdown",
   "metadata": {},
   "source": [
    "### Gráfico de correlação entre Qualidade da Biblioteca e Média em Língua Portuguesa"
   ]
  },
  {
   "cell_type": "code",
   "execution_count": 28,
   "metadata": {
    "collapsed": false
   },
   "outputs": [
    {
     "data": {
      "image/png": "[encoded data removed]",
      "text/plain": [
       "<matplotlib.figure.Figure at 0x12c095b38>"
      ]
     },
     "metadata": {},
     "output_type": "display_data"
    }
   ],
   "source": [
    "# Qualidade da biblioteca, de acordo com o dicionario de dados, encontra-se no campo TX_RESP_Q050\n",
    "plt.scatter(escolas_train_clean['Q_RECURSOS_BIBLIOTECA'], escolas_train_clean['MEDIA_LP'])\n",
    "plt.xlabel('Qualidade da biblioteca')\n",
    "plt.ylabel('Média em Língua Portuguesa')\n",
    "plt.xticks([-1, 0, 1, 2, 3], ['S/R', 'Inexistente', 'Ruim', 'Regular', 'Bom'])\n",
    "plt.show()"
   ]
  }
 ],
 "metadata": {
  "kernelspec": {
   "display_name": "Python 3",
   "language": "python",
   "name": "python3"
  },
  "language_info": {
   "codemirror_mode": {
    "name": "ipython",
    "version": 3
   },
   "file_extension": ".py",
   "mimetype": "text/x-python",
   "name": "python",
   "nbconvert_exporter": "python",
   "pygments_lexer": "ipython3",
   "version": "3.4.4"
  }
 },
 "nbformat": 4,
 "nbformat_minor": 1
}
