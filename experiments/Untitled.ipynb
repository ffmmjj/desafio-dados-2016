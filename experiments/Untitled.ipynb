{
 "cells": [
  {
   "cell_type": "code",
   "execution_count": 1,
   "metadata": {
    "collapsed": true
   },
   "outputs": [],
   "source": [
    "%matplotlib inline\n",
    "import pandas as pd\n",
    "import matplotlib.pyplot as plt"
   ]
  },
  {
   "cell_type": "code",
   "execution_count": 19,
   "metadata": {
    "collapsed": true
   },
   "outputs": [],
   "source": [
    "def questoes_ids():\n",
    "    questao_base = 'TX_RESP_Q{}'\n",
    "    for i in range(1, 63):\n",
    "        yield questao_base.format(str(i).zfill(3))\n",
    "        \n",
    "\n",
    "def codificar_questoes(questionario_pd):\n",
    "    questionario_tratado_pd = questionario_pd.copy()\n",
    "    for questao in questoes_ids():\n",
    "        questionario_tratado_pd[questao] = questionario_pd[questao].map({'A': 3, 'B': 2, 'C': 1, 'D': 0}).fillna(-1)\n",
    "    \n",
    "    return questionario_tratado_pd\n",
    "\n",
    "\n",
    "def limpar_scores(questionario_pd):\n",
    "    questionario_tratado_pd = questionario_pd.copy()\n",
    "    ids_scores = ['MEDIA_LP', 'MEDIA_MT']\n",
    "    \n",
    "    for id_score in ids_scores:\n",
    "        questionario_tratado_pd[id_score] = questionario_pd[id_score].str.strip().str.replace(',', '.').str.replace('^$', '-1').astype(float)\n",
    "    \n",
    "    return questionario_tratado_pd"
   ]
  },
  {
   "cell_type": "code",
   "execution_count": 9,
   "metadata": {
    "collapsed": false
   },
   "outputs": [
    {
     "name": "stderr",
     "output_type": "stream",
     "text": [
      "/Users/bonifacio/projects/desafio-dados-2016/venv/lib/python3.5/site-packages/IPython/core/interactiveshell.py:2717: DtypeWarning: Columns (9) have mixed types. Specify dtype option on import or set low_memory=False.\n",
      "  interactivity=interactivity, compiler=compiler, result=result)\n"
     ]
    }
   ],
   "source": [
    "raw_data = pd.read_csv('/Users/bonifacio/projects/desafio-dados-2016/dados/microdados_saeb_2011/Dados/TS_QUEST_ALUNO.csv', sep=';')"
   ]
  },
  {
   "cell_type": "code",
   "execution_count": 14,
   "metadata": {
    "collapsed": false
   },
   "outputs": [
    {
     "name": "stderr",
     "output_type": "stream",
     "text": [
      "/Users/bonifacio/projects/desafio-dados-2016/venv/lib/python3.5/site-packages/IPython/core/interactiveshell.py:2717: DtypeWarning: Columns (9) have mixed types. Specify dtype option on import or set low_memory=False.\n",
      "  interactivity=interactivity, compiler=compiler, result=result)\n"
     ]
    }
   ],
   "source": [
    "quest_resultado_df = pd.read_csv('/Users/bonifacio/projects/desafio-dados-2016/dados/microdados_saeb_2011/Dados/TS_RESULTADO_ALUNO.csv', sep=';')"
   ]
  },
  {
   "cell_type": "code",
   "execution_count": 12,
   "metadata": {
    "collapsed": false
   },
   "outputs": [],
   "source": [
    "nono_ano_df = raw_data[raw_data['ID_SERIE'] == 9]"
   ]
  },
  {
   "cell_type": "code",
   "execution_count": 21,
   "metadata": {
    "collapsed": false
   },
   "outputs": [],
   "source": [
    "cleaned_questions_df = codificar_questoes(nono_ano_df)"
   ]
  },
  {
   "cell_type": "code",
   "execution_count": 38,
   "metadata": {
    "collapsed": false
   },
   "outputs": [],
   "source": [
    "non_question_features = cleaned_questions_df.columns[0:15]\n",
    "cleaned_questions_df = cleaned_questions_df.drop(non_question_features, axis=1)"
   ]
  },
  {
   "cell_type": "code",
   "execution_count": 16,
   "metadata": {
    "collapsed": true
   },
   "outputs": [],
   "source": [
    "from sklearn.decomposition import PCA"
   ]
  },
  {
   "cell_type": "code",
   "execution_count": 40,
   "metadata": {
    "collapsed": false
   },
   "outputs": [],
   "source": [
    "questions_2d_values = PCA(n_components=2).fit_transform(cleaned_questions_df)"
   ]
  },
  {
   "cell_type": "code",
   "execution_count": 17,
   "metadata": {
    "collapsed": true
   },
   "outputs": [],
   "source": [
    "%matplotlib inline\n",
    "import matplotlib.pyplot as plt"
   ]
  },
  {
   "cell_type": "code",
   "execution_count": 42,
   "metadata": {
    "collapsed": true
   },
   "outputs": [],
   "source": [
    "import numpy as np"
   ]
  },
  {
   "cell_type": "code",
   "execution_count": 67,
   "metadata": {
    "collapsed": false
   },
   "outputs": [],
   "source": [
    "# np.random.permutation(2604238)\n",
    "questions_2d_sample = questions_2d_values[0:25000, :]"
   ]
  },
  {
   "cell_type": "code",
   "execution_count": 70,
   "metadata": {
    "collapsed": false
   },
   "outputs": [
    {
     "data": {
      "text/plain": [
       "(array([23453]),)"
      ]
     },
     "execution_count": 70,
     "metadata": {},
     "output_type": "execute_result"
    }
   ],
   "source": [
    "y_interval = np.logical_and(questions_2d_sample[:, 1] > 9, questions_2d_sample[:, 1] < 11)\n",
    "x_interval = np.logical_and(questions_2d_sample[:, 0] > -15, questions_2d_sample[:, 0] < -10)\n",
    "da_one = np.logical_and(x_interval, y_interval)\n",
    "np.nonzero(da_one)"
   ]
  },
  {
   "cell_type": "code",
   "execution_count": 76,
   "metadata": {
    "collapsed": false
   },
   "outputs": [],
   "source": [
    "da_one_df = raw_data.iloc[[23453]]"
   ]
  },
  {
   "cell_type": "code",
   "execution_count": 78,
   "metadata": {
    "collapsed": false
   },
   "outputs": [],
   "source": [
    "da_one_df.to_csv('da_one_outlier.csv')"
   ]
  },
  {
   "cell_type": "code",
   "execution_count": 79,
   "metadata": {
    "collapsed": false
   },
   "outputs": [
    {
     "data": {
      "text/plain": [
       "'/Users/bonifacio/projects/desafio-dados-2016/src'"
      ]
     },
     "execution_count": 79,
     "metadata": {},
     "output_type": "execute_result"
    }
   ],
   "source": [
    "pwd()"
   ]
  },
  {
   "cell_type": "code",
   "execution_count": 75,
   "metadata": {
    "collapsed": false
   },
   "outputs": [
    {
     "data": {
      "image/png": "[encoded data removed]",
      "text/plain": [
       "<matplotlib.figure.Figure at 0x3c8953860>"
      ]
     },
     "metadata": {},
     "output_type": "display_data"
    }
   ],
   "source": [
    "plt.scatter(questions_2d_values[:, 0], questions_2d_values[:, 1])\n",
    "plt.show()"
   ]
  },
  {
   "cell_type": "code",
   "execution_count": 13,
   "metadata": {
    "collapsed": false
   },
   "outputs": [
    {
     "name": "stdout",
     "output_type": "stream",
     "text": [
      "<class 'pandas.core.frame.DataFrame'>\n",
      "Int64Index: 2604238 entries, 43 to 5396424\n",
      "Data columns (total 77 columns):\n",
      "ID_SAEB               int64\n",
      "ID_REGIAO             int64\n",
      "ID_UF                 int64\n",
      "ID_MUNICIPIO          int64\n",
      "ID_ESCOLA             int64\n",
      "ID_DEPENDENCIA_ADM    int64\n",
      "ID_LOCALIZACAO        int64\n",
      "ID_CAPITAL            int64\n",
      "ID_TURMA              int64\n",
      "ID_TURNO              object\n",
      "ID_SERIE              int64\n",
      "ID_ALUNO              int64\n",
      "IN_SITUACAO_CENSO     int64\n",
      "IN_PROVA_BRASIL       int64\n",
      "IN_PREENCHIMENTO      int64\n",
      "TX_RESP_Q001          object\n",
      "TX_RESP_Q002          object\n",
      "TX_RESP_Q003          object\n",
      "TX_RESP_Q004          object\n",
      "TX_RESP_Q005          object\n",
      "TX_RESP_Q006          object\n",
      "TX_RESP_Q007          object\n",
      "TX_RESP_Q008          object\n",
      "TX_RESP_Q009          object\n",
      "TX_RESP_Q010          object\n",
      "TX_RESP_Q011          object\n",
      "TX_RESP_Q012          object\n",
      "TX_RESP_Q013          object\n",
      "TX_RESP_Q014          object\n",
      "TX_RESP_Q015          object\n",
      "TX_RESP_Q016          object\n",
      "TX_RESP_Q017          object\n",
      "TX_RESP_Q018          object\n",
      "TX_RESP_Q019          object\n",
      "TX_RESP_Q020          object\n",
      "TX_RESP_Q021          object\n",
      "TX_RESP_Q022          object\n",
      "TX_RESP_Q023          object\n",
      "TX_RESP_Q024          object\n",
      "TX_RESP_Q025          object\n",
      "TX_RESP_Q026          object\n",
      "TX_RESP_Q027          object\n",
      "TX_RESP_Q028          object\n",
      "TX_RESP_Q029          object\n",
      "TX_RESP_Q030          object\n",
      "TX_RESP_Q031          object\n",
      "TX_RESP_Q032          object\n",
      "TX_RESP_Q033          object\n",
      "TX_RESP_Q034          object\n",
      "TX_RESP_Q035          object\n",
      "TX_RESP_Q036          object\n",
      "TX_RESP_Q037          object\n",
      "TX_RESP_Q038          object\n",
      "TX_RESP_Q039          object\n",
      "TX_RESP_Q040          object\n",
      "TX_RESP_Q041          object\n",
      "TX_RESP_Q042          object\n",
      "TX_RESP_Q043          object\n",
      "TX_RESP_Q044          object\n",
      "TX_RESP_Q045          object\n",
      "TX_RESP_Q046          object\n",
      "TX_RESP_Q047          object\n",
      "TX_RESP_Q048          object\n",
      "TX_RESP_Q049          object\n",
      "TX_RESP_Q050          object\n",
      "TX_RESP_Q051          object\n",
      "TX_RESP_Q052          object\n",
      "TX_RESP_Q053          object\n",
      "TX_RESP_Q054          object\n",
      "TX_RESP_Q055          object\n",
      "TX_RESP_Q056          object\n",
      "TX_RESP_Q057          object\n",
      "TX_RESP_Q058          object\n",
      "TX_RESP_Q059          object\n",
      "TX_RESP_Q060          object\n",
      "TX_RESP_Q061          object\n",
      "TX_RESP_Q062          object\n",
      "dtypes: int64(14), object(63)\n",
      "memory usage: 1.5+ GB\n"
     ]
    }
   ],
   "source": [
    "nono_ano_df.info()"
   ]
  },
  {
   "cell_type": "code",
   "execution_count": null,
   "metadata": {
    "collapsed": true
   },
   "outputs": [],
   "source": []
  }
 ],
 "metadata": {
  "kernelspec": {
   "display_name": "Python 3",
   "language": "python",
   "name": "python3"
  },
  "language_info": {
   "codemirror_mode": {
    "name": "ipython",
    "version": 3
   },
   "file_extension": ".py",
   "mimetype": "text/x-python",
   "name": "python",
   "nbconvert_exporter": "python",
   "pygments_lexer": "ipython3",
   "version": "3.5.1"
  }
 },
 "nbformat": 4,
 "nbformat_minor": 1
}
